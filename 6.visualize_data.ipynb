{
 "cells": [
  {
   "cell_type": "code",
   "execution_count": null,
   "id": "fa9c3741",
   "metadata": {},
   "outputs": [],
   "source": [
    "from lerobot.common.datasets.lerobot_dataset import LeRobotDataset, LeRobotDatasetMetadata\n",
    "import numpy as np\n",
    "from lerobot.common.datasets.utils import write_json, serialize_dict\n",
    "ROOT = \"./demo_data_language\" # The root directory to save the demonstrations\n",
    "dataset = LeRobotDataset('omy_pnp', root=ROOT) # if youu want to use the example data provided, root = './demo_data_example' instead!"
   ]
  },
  {
   "cell_type": "code",
   "execution_count": null,
   "id": "4aeafda1",
   "metadata": {},
   "outputs": [],
   "source": [
    "import torch\n",
    "\n",
    "class EpisodeSampler(torch.utils.data.Sampler):\n",
    "    \"\"\"\n",
    "    Sampler for a single episode\n",
    "    \"\"\"\n",
    "    def __init__(self, dataset: LeRobotDataset, episode_index: int):\n",
    "        from_idx = dataset.episode_data_index[\"from\"][episode_index].item()\n",
    "        to_idx = dataset.episode_data_index[\"to\"][episode_index].item()\n",
    "        self.frame_ids = range(from_idx, to_idx)\n",
    "\n",
    "    def __iter__(self):\n",
    "        return iter(self.frame_ids)\n",
    "\n",
    "    def __len__(self) -> int:\n",
    "        return len(self.frame_ids)"
   ]
  },
  {
   "cell_type": "code",
   "execution_count": null,
   "id": "ad34e64c",
   "metadata": {},
   "outputs": [],
   "source": [
    "# Select an episode index that you want to visualize\n",
    "episode_index = 0\n",
    "\n",
    "episode_sampler = EpisodeSampler(dataset, episode_index)\n",
    "dataloader = torch.utils.data.DataLoader(\n",
    "    dataset,\n",
    "    num_workers=1,\n",
    "    batch_size=1,\n",
    "    sampler=episode_sampler,\n",
    ")\n"
   ]
  },
  {
   "cell_type": "code",
   "execution_count": null,
   "id": "7d6c6e47",
   "metadata": {},
   "outputs": [],
   "source": [
    "from mujoco_env.y_env2 import SimpleEnv2\n",
    "xml_path = './asset/example_scene_y2.xml'\n",
    "PnPEnv = SimpleEnv2(xml_path, action_type='joint_angle')"
   ]
  },
  {
   "cell_type": "code",
   "execution_count": null,
   "id": "142cb7e6",
   "metadata": {},
   "outputs": [],
   "source": [
    "step = 0\n",
    "iter_dataloader = iter(dataloader)\n",
    "PnPEnv.reset()\n",
    "\n",
    "while PnPEnv.env.is_viewer_alive():\n",
    "    PnPEnv.step_env()\n",
    "    if PnPEnv.env.loop_every(HZ=20):\n",
    "        # Get the action from dataset\n",
    "        data = next(iter_dataloader)\n",
    "        if step == 0:\n",
    "            # Reset the object pose based on the dataset\n",
    "            PnPEnv.set_obj_pose(data['obj_init'][0,:3], data['obj_init'][0,3:6], data['obj_init'][0,6:9])\n",
    "        # Get the action from dataset\n",
    "        action = data['action'].numpy()\n",
    "        obs = PnPEnv.step(action[0])\n",
    "\n",
    "        # Visualize the image from dataset to rgb_overlay\n",
    "        PnPEnv.rgb_agent = data['observation.image'][0].numpy()*255\n",
    "        PnPEnv.rgb_ego = data['observation.wrist_image'][0].numpy()*255\n",
    "        PnPEnv.rgb_agent = PnPEnv.rgb_agent.astype(np.uint8)\n",
    "        PnPEnv.rgb_ego = PnPEnv.rgb_ego.astype(np.uint8)\n",
    "        # 3 256 256 -> 256 256 3\n",
    "        PnPEnv.rgb_agent = np.transpose(PnPEnv.rgb_agent, (1,2,0))\n",
    "        PnPEnv.rgb_ego = np.transpose(PnPEnv.rgb_ego, (1,2,0))\n",
    "        PnPEnv.rgb_side = np.zeros((480, 640, 3), dtype=np.uint8)\n",
    "        PnPEnv.render()\n",
    "        step += 1\n",
    "\n",
    "        if step == len(episode_sampler):\n",
    "            # start from the beginning\n",
    "            iter_dataloader = iter(dataloader)\n",
    "            PnPEnv.reset()\n",
    "            step = 0"
   ]
  },
  {
   "cell_type": "code",
   "execution_count": null,
   "id": "3dbcb29d",
   "metadata": {},
   "outputs": [],
   "source": [
    "PnPEnv.env.close_viewer()"
   ]
  },
  {
   "cell_type": "code",
   "execution_count": null,
   "id": "d528e8e0",
   "metadata": {},
   "outputs": [],
   "source": [
    "dataset.push_to_hub(upload_large_folder = True)"
   ]
  },
  {
   "cell_type": "code",
   "execution_count": null,
   "id": "161b4d3b",
   "metadata": {},
   "outputs": [],
   "source": []
  }
 ],
 "metadata": {
  "kernelspec": {
   "display_name": "lerobot",
   "language": "python",
   "name": "python3"
  },
  "language_info": {
   "codemirror_mode": {
    "name": "ipython",
    "version": 3
   },
   "file_extension": ".py",
   "mimetype": "text/x-python",
   "name": "python",
   "nbconvert_exporter": "python",
   "pygments_lexer": "ipython3",
   "version": "3.10.2"
  }
 },
 "nbformat": 4,
 "nbformat_minor": 5
}
