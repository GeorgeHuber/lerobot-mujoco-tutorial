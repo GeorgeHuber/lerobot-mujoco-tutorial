{
 "cells": [
  {
   "cell_type": "code",
   "execution_count": null,
   "id": "eba71c8f",
   "metadata": {},
   "outputs": [],
   "source": [
    "!pip install pytest\n",
    "!pip install transformers==4.48.0"
   ]
  },
  {
   "cell_type": "markdown",
   "id": "f8c0deb6",
   "metadata": {},
   "source": [
    "# Train pi_0"
   ]
  },
  {
   "cell_type": "code",
   "execution_count": null,
   "id": "2f3e4d81",
   "metadata": {},
   "outputs": [],
   "source": [
    "'''\n",
    "If you want to use the collected dataset, please download it from Hugging Face.\n",
    "'''\n",
    "!git clone https://huggingface.co/datasets/Jeongeun/omy_pnp"
   ]
  },
  {
   "cell_type": "markdown",
   "id": "4b6de363",
   "metadata": {},
   "source": [
    "### Step 1. Change the configuration fiel, pi0_omy.yaml"
   ]
  },
  {
   "cell_type": "markdown",
   "id": "233d18e1",
   "metadata": {},
   "source": [
    "pi0_omy.yaml file\n",
    "```\n",
    "dataset:\n",
    "  repo_id: omy_pnp\n",
    "  root: ./omy_pnp\n",
    "policy:\n",
    "  type : pi0\n",
    "  chunk_size: 5\n",
    "  n_action_steps: 5\n",
    "save_checkpoint: true\n",
    "output_dir: ./ckpt/pi0_omy\n",
    "batch_size: 16\n",
    "job_name : pi0_omy\n",
    "resume: false\n",
    "seed : 42\n",
    "num_workers: 8\n",
    "steps: 20_000\n",
    "eval_freq: -1 # No evaluation\n",
    "log_freq: 50\n",
    "save_checkpoint: true\n",
    "save_freq: 5_000\n",
    "use_policy_training_preset: true\n",
    "  \n",
    "wandb:\n",
    "  enable: true\n",
    "  project: pi0_omy\n",
    "  entity: <YOUR ENTITY for wandb>\n",
    "  disable_artifact: true\n",
    "```"
   ]
  },
  {
   "cell_type": "markdown",
   "id": "e2525163",
   "metadata": {},
   "source": [
    "### Step 2. Train Model.\n",
    "The code is tested on A100 "
   ]
  },
  {
   "cell_type": "code",
   "execution_count": null,
   "id": "ba97ebae",
   "metadata": {},
   "outputs": [],
   "source": [
    "!python train_pi0.py --config_path pi0_omy.yaml"
   ]
  },
  {
   "cell_type": "markdown",
   "id": "61c74aea",
   "metadata": {},
   "source": [
    "### Step 3. Deploy"
   ]
  },
  {
   "cell_type": "code",
   "execution_count": null,
   "id": "d198aa7b",
   "metadata": {},
   "outputs": [],
   "source": [
    "from lerobot.common.datasets.lerobot_dataset import LeRobotDataset, LeRobotDatasetMetadata\n",
    "import numpy as np\n",
    "from lerobot.common.datasets.utils import write_json, serialize_dict\n",
    "from lerobot.common.policies.pi0.configuration_pi0 import PI0Config\n",
    "from lerobot.common.policies.pi0.modeling_pi0 import PI0Policy\n",
    "from lerobot.configs.types import FeatureType\n",
    "from lerobot.common.datasets.factory import resolve_delta_timestamps\n",
    "from lerobot.common.datasets.utils import dataset_to_policy_features\n",
    "import torch\n",
    "from PIL import Image\n",
    "import torchvision"
   ]
  },
  {
   "cell_type": "code",
   "execution_count": null,
   "id": "53895453",
   "metadata": {},
   "outputs": [],
   "source": [
    "device = 'cuda'"
   ]
  },
  {
   "cell_type": "code",
   "execution_count": null,
   "id": "dee90c0e",
   "metadata": {},
   "outputs": [],
   "source": [
    "dataset_metadata = LeRobotDatasetMetadata(\"omy_pnp\", root='./demo_data_language')\n",
    "features = dataset_to_policy_features(dataset_metadata.features)\n",
    "output_features = {key: ft for key, ft in features.items() if ft.type is FeatureType.ACTION}\n",
    "input_features = {key: ft for key, ft in features.items() if key not in output_features}\n",
    "# Policies are initialized with a configuration class, in this case `DiffusionConfig`. For this example,\n",
    "# we'll just use the defaults and so no arguments other than input/output features need to be passed.\n",
    "# Temporal ensemble to make smoother trajectory predictions\n",
    "cfg = PI0Config(input_features=input_features, output_features=output_features, chunk_size= 5, n_action_steps=5)\n",
    "delta_timestamps = resolve_delta_timestamps(cfg, dataset_metadata)"
   ]
  },
  {
   "cell_type": "code",
   "execution_count": null,
   "id": "00c5180d",
   "metadata": {},
   "outputs": [],
   "source": [
    "# We can now instantiate our policy with this config and the dataset stats.\n",
    "policy = PI0Policy.from_pretrained('./ckpt/act_y', config = cfg, dataset_stats=dataset_metadata.stats)\n",
    "policy.to(device)\n",
    "\n",
    "# You can load the trained policy from hub if you don't have the resources to train it.\n",
    "# policy = PI0Policy.from_pretrained(\"Jeongeun/omy_pnp_pi0\", config=cfg, dataset_stats=dataset_metadata.stats)"
   ]
  },
  {
   "cell_type": "code",
   "execution_count": null,
   "id": "f2152c6f",
   "metadata": {},
   "outputs": [],
   "source": [
    "from mujoco_env.y_env2 import SimpleEnv2\n",
    "xml_path = './asset/example_scene_y2.xml'\n",
    "PnPEnv = SimpleEnv2(xml_path, action_type='joint_angle')"
   ]
  },
  {
   "cell_type": "code",
   "execution_count": null,
   "id": "82e9e6fa",
   "metadata": {},
   "outputs": [],
   "source": [
    "step = 0\n",
    "PnPEnv.reset(seed=0)\n",
    "policy.reset()\n",
    "policy.eval()\n",
    "save_image = True\n",
    "img_transform = torchvision.transforms.ToTensor()\n",
    "while PnPEnv.env.is_viewer_alive():\n",
    "    PnPEnv.step_env()\n",
    "    if PnPEnv.env.loop_every(HZ=20):\n",
    "        # Check if the task is completed\n",
    "        success = PnPEnv.check_success()\n",
    "        if success:\n",
    "            print('Success')\n",
    "            # Reset the environment and action queue\n",
    "            policy.reset()\n",
    "            PnPEnv.reset(seed=0)\n",
    "            step = 0\n",
    "            save_image = False\n",
    "        # Get the current state of the environment\n",
    "        state = PnPEnv.get_ee_pose()\n",
    "        # Get the current image from the environment\n",
    "        image, wirst_image = PnPEnv.grab_image()\n",
    "        image = Image.fromarray(image)\n",
    "        image = image.resize((256, 256))\n",
    "        image = img_transform(image)\n",
    "        wrist_image = Image.fromarray(wirst_image)\n",
    "        wrist_image = wrist_image.resize((256, 256))\n",
    "        wrist_image = img_transform(wrist_image)\n",
    "        data = {\n",
    "            'observation.state': torch.tensor([state]).to(device),\n",
    "            'observation.image': image.unsqueeze(0).to(device),\n",
    "            'observation.wrist_image': wrist_image.unsqueeze(0).to(device),\n",
    "            'task': [PnPEnv.instruction],\n",
    "        }\n",
    "        # Select an action\n",
    "        action = policy.select_action(data)\n",
    "        action = action[0].cpu().detach().numpy()\n",
    "        # Take a step in the environment\n",
    "        _ = PnPEnv.step(action)\n",
    "        PnPEnv.render()\n",
    "        step += 1\n",
    "        success = PnPEnv.check_success()\n",
    "        if success:\n",
    "            print('Success')\n",
    "            break"
   ]
  },
  {
   "cell_type": "code",
   "execution_count": null,
   "id": "b38e0469",
   "metadata": {},
   "outputs": [],
   "source": [
    "policy.push_to_hub(\n",
    "    repo_id='Jeongeun/omy_pnp_pi0',\n",
    "    commit_message='Add trained policy for PnP task',\n",
    "    organization='Jeongeun',\n",
    "    private=True,\n",
    ")"
   ]
  }
 ],
 "metadata": {
  "kernelspec": {
   "display_name": "lerobot",
   "language": "python",
   "name": "python3"
  },
  "language_info": {
   "codemirror_mode": {
    "name": "ipython",
    "version": 3
   },
   "file_extension": ".py",
   "mimetype": "text/x-python",
   "name": "python",
   "nbconvert_exporter": "python",
   "pygments_lexer": "ipython3",
   "version": "3.10.2"
  }
 },
 "nbformat": 4,
 "nbformat_minor": 5
}
